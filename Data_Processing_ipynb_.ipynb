{
  "cells": [
    {
      "cell_type": "markdown",
      "metadata": {
        "id": "ueAJBoGNRJmv"
      },
      "source": [
        "###Preparation"
      ]
    },
    {
      "cell_type": "code",
      "source": [
        "pip install thinkx"
      ],
      "metadata": {
        "id": "6DfXEAoOOs_1",
        "colab": {
          "base_uri": "https://localhost:8080/"
        },
        "outputId": "47d95283-a96b-4882-aed2-b09ff2d722d6"
      },
      "execution_count": 185,
      "outputs": [
        {
          "output_type": "stream",
          "name": "stdout",
          "text": [
            "Requirement already satisfied: thinkx in /usr/local/lib/python3.7/dist-packages (1.1.3)\n",
            "Requirement already satisfied: scipy in /usr/local/lib/python3.7/dist-packages (from thinkx) (1.4.1)\n",
            "Requirement already satisfied: matplotlib in /usr/local/lib/python3.7/dist-packages (from thinkx) (3.2.2)\n",
            "Requirement already satisfied: numpy in /usr/local/lib/python3.7/dist-packages (from thinkx) (1.21.6)\n",
            "Requirement already satisfied: markdown in /usr/local/lib/python3.7/dist-packages (from thinkx) (3.3.6)\n",
            "Requirement already satisfied: pandas in /usr/local/lib/python3.7/dist-packages (from thinkx) (1.3.5)\n",
            "Requirement already satisfied: importlib-metadata>=4.4 in /usr/local/lib/python3.7/dist-packages (from markdown->thinkx) (4.11.3)\n",
            "Requirement already satisfied: typing-extensions>=3.6.4 in /usr/local/lib/python3.7/dist-packages (from importlib-metadata>=4.4->markdown->thinkx) (4.2.0)\n",
            "Requirement already satisfied: zipp>=0.5 in /usr/local/lib/python3.7/dist-packages (from importlib-metadata>=4.4->markdown->thinkx) (3.8.0)\n",
            "Requirement already satisfied: kiwisolver>=1.0.1 in /usr/local/lib/python3.7/dist-packages (from matplotlib->thinkx) (1.4.2)\n",
            "Requirement already satisfied: pyparsing!=2.0.4,!=2.1.2,!=2.1.6,>=2.0.1 in /usr/local/lib/python3.7/dist-packages (from matplotlib->thinkx) (3.0.8)\n",
            "Requirement already satisfied: cycler>=0.10 in /usr/local/lib/python3.7/dist-packages (from matplotlib->thinkx) (0.11.0)\n",
            "Requirement already satisfied: python-dateutil>=2.1 in /usr/local/lib/python3.7/dist-packages (from matplotlib->thinkx) (2.8.2)\n",
            "Requirement already satisfied: six>=1.5 in /usr/local/lib/python3.7/dist-packages (from python-dateutil>=2.1->matplotlib->thinkx) (1.15.0)\n",
            "Requirement already satisfied: pytz>=2017.3 in /usr/local/lib/python3.7/dist-packages (from pandas->thinkx) (2022.1)\n"
          ]
        }
      ]
    },
    {
      "cell_type": "code",
      "source": [
        "import matplotlib.pyplot as plt"
      ],
      "metadata": {
        "id": "0A6jO72c-H3T"
      },
      "execution_count": 186,
      "outputs": []
    },
    {
      "cell_type": "code",
      "source": [
        "try:\n",
        "    import empiricaldist\n",
        "except ImportError:\n",
        "    !pip install empiricaldist\n",
        "from empiricaldist import *"
      ],
      "metadata": {
        "id": "oKikRCfIShYw"
      },
      "execution_count": 187,
      "outputs": []
    },
    {
      "cell_type": "code",
      "execution_count": 188,
      "metadata": {
        "colab": {
          "base_uri": "https://localhost:8080/"
        },
        "id": "HACxQknOYbSs",
        "outputId": "97474708-aeeb-476d-ede5-41d3f72b7c39"
      },
      "outputs": [
        {
          "output_type": "stream",
          "name": "stdout",
          "text": [
            "Requirement already satisfied: PyGithub in /usr/local/lib/python3.7/dist-packages (1.55)\n",
            "Requirement already satisfied: requests in /usr/local/lib/python3.7/dist-packages (2.23.0)\n",
            "Requirement already satisfied: pyjwt>=2.0 in /usr/local/lib/python3.7/dist-packages (from PyGithub) (2.4.0)\n",
            "Requirement already satisfied: deprecated in /usr/local/lib/python3.7/dist-packages (from PyGithub) (1.2.13)\n",
            "Requirement already satisfied: pynacl>=1.4.0 in /usr/local/lib/python3.7/dist-packages (from PyGithub) (1.5.0)\n",
            "Requirement already satisfied: certifi>=2017.4.17 in /usr/local/lib/python3.7/dist-packages (from requests) (2021.10.8)\n",
            "Requirement already satisfied: chardet<4,>=3.0.2 in /usr/local/lib/python3.7/dist-packages (from requests) (3.0.4)\n",
            "Requirement already satisfied: urllib3!=1.25.0,!=1.25.1,<1.26,>=1.21.1 in /usr/local/lib/python3.7/dist-packages (from requests) (1.24.3)\n",
            "Requirement already satisfied: idna<3,>=2.5 in /usr/local/lib/python3.7/dist-packages (from requests) (2.10)\n",
            "Requirement already satisfied: cffi>=1.4.1 in /usr/local/lib/python3.7/dist-packages (from pynacl>=1.4.0->PyGithub) (1.15.0)\n",
            "Requirement already satisfied: pycparser in /usr/local/lib/python3.7/dist-packages (from cffi>=1.4.1->pynacl>=1.4.0->PyGithub) (2.21)\n",
            "Requirement already satisfied: wrapt<2,>=1.10 in /usr/local/lib/python3.7/dist-packages (from deprecated->PyGithub) (1.14.0)\n"
          ]
        }
      ],
      "source": [
        "pip install PyGithub requests"
      ]
    },
    {
      "cell_type": "code",
      "execution_count": 189,
      "metadata": {
        "id": "p_IIPqnOFuJL"
      },
      "outputs": [],
      "source": [
        "import requests \n",
        "import json\n",
        "from github import Github\n",
        "import pandas as pd"
      ]
    },
    {
      "cell_type": "code",
      "execution_count": 190,
      "metadata": {
        "id": "XLxv-Z5cN4DB"
      },
      "outputs": [],
      "source": [
        "from datetime import datetime"
      ]
    },
    {
      "cell_type": "markdown",
      "metadata": {
        "id": "l_8qrpAdFpsN"
      },
      "source": [
        "### Data Colllection"
      ]
    },
    {
      "cell_type": "markdown",
      "metadata": {
        "id": "PQAEjC8M3A3p"
      },
      "source": [
        "##### Authorization"
      ]
    },
    {
      "cell_type": "code",
      "execution_count": 191,
      "metadata": {
        "id": "jnCrMVPnYrD3"
      },
      "outputs": [],
      "source": [
        "BT_TOCKEN = 'student_tocken' #for authorised API requests there are looses limit on the number of calls.\n",
        "g = Github(login_or_token=BT_TOCKEN)"
      ]
    },
    {
      "cell_type": "markdown",
      "metadata": {
        "id": "AgyfRoisKn2T"
      },
      "source": [
        "##### Getting Raw Data"
      ]
    },
    {
      "cell_type": "code",
      "execution_count": 192,
      "metadata": {
        "id": "nQb3GZrqxGBz"
      },
      "outputs": [],
      "source": [
        "#Getting repository object to access its constituent elements\n",
        "repo = g.get_repo(full_name_or_id='golang/go')\n",
        "issues = repo.get_issues(state='closed', since=datetime.strptime(\"2021-05-10\", \"%Y-%m-%d\")) #Getting all closed issues over year period"
      ]
    },
    {
      "cell_type": "code",
      "source": [
        "#getting issues parametrs\n",
        "issues_list = {}\n",
        "for i in range(issues.totalCount):\n",
        "  issues_list[issues[i].id] = [issues[i].id, issues[i].created_at, issues[i].closed_at, issues[i].get_comments().totalCount]\n",
        "issue_dates = pd.json_normalize(issues_list)"
      ],
      "metadata": {
        "id": "d0LWJKfF3FJH"
      },
      "execution_count": 198,
      "outputs": []
    },
    {
      "cell_type": "code",
      "source": [
        "df = pd.DataFrame(issues_list)\n",
        "df.T.to_excel('to_clean.xlsx')"
      ],
      "metadata": {
        "id": "ZCe6ciQzYfTO"
      },
      "execution_count": 217,
      "outputs": []
    },
    {
      "cell_type": "markdown",
      "source": [
        "###Data Aggeration\n"
      ],
      "metadata": {
        "id": "e-tgYD6TxJe_"
      }
    },
    {
      "cell_type": "markdown",
      "metadata": {
        "id": "X_hy90MrRjGR"
      },
      "source": [
        "#### Problem level"
      ]
    },
    {
      "cell_type": "markdown",
      "source": [
        "#####Cleaning"
      ],
      "metadata": {
        "id": "dGfrlf0ytcr8"
      }
    },
    {
      "cell_type": "code",
      "source": [
        "to_clean = pd.read_excel('to_clean.xlsx', names=['id', 'created_at', 'closed_at', 'Comments_num']) #loading \n",
        "cleaned_df = to_clean.drop_duplicates() #excluding duplicates that might have resulted from API failures\n",
        "cleaned_df.to_excel('cleaned.xlsx') #saving"
      ],
      "metadata": {
        "id": "V11CH-357Zls"
      },
      "execution_count": 218,
      "outputs": []
    },
    {
      "cell_type": "code",
      "source": [
        "to_clean.head()"
      ],
      "metadata": {
        "colab": {
          "base_uri": "https://localhost:8080/",
          "height": 206
        },
        "id": "dTI5GwendKpN",
        "outputId": "02e0fd11-e436-4cbe-f0ee-ddf477a1326b"
      },
      "execution_count": 219,
      "outputs": [
        {
          "output_type": "execute_result",
          "data": {
            "text/plain": [
              "                    id          created_at           closed_at  Comments_num\n",
              "1237919053  1237919053 2022-05-17 01:07:27 2022-05-17 01:17:14             1\n",
              "1237631077  1237631077 2022-05-16 19:44:55 2022-05-16 19:54:01             0\n",
              "1237532717  1237532717 2022-05-16 18:20:58 2022-05-17 00:54:26             7\n",
              "1237493471  1237493471 2022-05-16 17:46:42 2022-05-16 17:47:44             0\n",
              "1237369351  1237369351 2022-05-16 15:59:18 2022-05-17 18:18:43             3"
            ],
            "text/html": [
              "\n",
              "  <div id=\"df-659842fe-0055-4375-b145-ca17e1ef402f\">\n",
              "    <div class=\"colab-df-container\">\n",
              "      <div>\n",
              "<style scoped>\n",
              "    .dataframe tbody tr th:only-of-type {\n",
              "        vertical-align: middle;\n",
              "    }\n",
              "\n",
              "    .dataframe tbody tr th {\n",
              "        vertical-align: top;\n",
              "    }\n",
              "\n",
              "    .dataframe thead th {\n",
              "        text-align: right;\n",
              "    }\n",
              "</style>\n",
              "<table border=\"1\" class=\"dataframe\">\n",
              "  <thead>\n",
              "    <tr style=\"text-align: right;\">\n",
              "      <th></th>\n",
              "      <th>id</th>\n",
              "      <th>created_at</th>\n",
              "      <th>closed_at</th>\n",
              "      <th>Comments_num</th>\n",
              "    </tr>\n",
              "  </thead>\n",
              "  <tbody>\n",
              "    <tr>\n",
              "      <th>1237919053</th>\n",
              "      <td>1237919053</td>\n",
              "      <td>2022-05-17 01:07:27</td>\n",
              "      <td>2022-05-17 01:17:14</td>\n",
              "      <td>1</td>\n",
              "    </tr>\n",
              "    <tr>\n",
              "      <th>1237631077</th>\n",
              "      <td>1237631077</td>\n",
              "      <td>2022-05-16 19:44:55</td>\n",
              "      <td>2022-05-16 19:54:01</td>\n",
              "      <td>0</td>\n",
              "    </tr>\n",
              "    <tr>\n",
              "      <th>1237532717</th>\n",
              "      <td>1237532717</td>\n",
              "      <td>2022-05-16 18:20:58</td>\n",
              "      <td>2022-05-17 00:54:26</td>\n",
              "      <td>7</td>\n",
              "    </tr>\n",
              "    <tr>\n",
              "      <th>1237493471</th>\n",
              "      <td>1237493471</td>\n",
              "      <td>2022-05-16 17:46:42</td>\n",
              "      <td>2022-05-16 17:47:44</td>\n",
              "      <td>0</td>\n",
              "    </tr>\n",
              "    <tr>\n",
              "      <th>1237369351</th>\n",
              "      <td>1237369351</td>\n",
              "      <td>2022-05-16 15:59:18</td>\n",
              "      <td>2022-05-17 18:18:43</td>\n",
              "      <td>3</td>\n",
              "    </tr>\n",
              "  </tbody>\n",
              "</table>\n",
              "</div>\n",
              "      <button class=\"colab-df-convert\" onclick=\"convertToInteractive('df-659842fe-0055-4375-b145-ca17e1ef402f')\"\n",
              "              title=\"Convert this dataframe to an interactive table.\"\n",
              "              style=\"display:none;\">\n",
              "        \n",
              "  <svg xmlns=\"http://www.w3.org/2000/svg\" height=\"24px\"viewBox=\"0 0 24 24\"\n",
              "       width=\"24px\">\n",
              "    <path d=\"M0 0h24v24H0V0z\" fill=\"none\"/>\n",
              "    <path d=\"M18.56 5.44l.94 2.06.94-2.06 2.06-.94-2.06-.94-.94-2.06-.94 2.06-2.06.94zm-11 1L8.5 8.5l.94-2.06 2.06-.94-2.06-.94L8.5 2.5l-.94 2.06-2.06.94zm10 10l.94 2.06.94-2.06 2.06-.94-2.06-.94-.94-2.06-.94 2.06-2.06.94z\"/><path d=\"M17.41 7.96l-1.37-1.37c-.4-.4-.92-.59-1.43-.59-.52 0-1.04.2-1.43.59L10.3 9.45l-7.72 7.72c-.78.78-.78 2.05 0 2.83L4 21.41c.39.39.9.59 1.41.59.51 0 1.02-.2 1.41-.59l7.78-7.78 2.81-2.81c.8-.78.8-2.07 0-2.86zM5.41 20L4 18.59l7.72-7.72 1.47 1.35L5.41 20z\"/>\n",
              "  </svg>\n",
              "      </button>\n",
              "      \n",
              "  <style>\n",
              "    .colab-df-container {\n",
              "      display:flex;\n",
              "      flex-wrap:wrap;\n",
              "      gap: 12px;\n",
              "    }\n",
              "\n",
              "    .colab-df-convert {\n",
              "      background-color: #E8F0FE;\n",
              "      border: none;\n",
              "      border-radius: 50%;\n",
              "      cursor: pointer;\n",
              "      display: none;\n",
              "      fill: #1967D2;\n",
              "      height: 32px;\n",
              "      padding: 0 0 0 0;\n",
              "      width: 32px;\n",
              "    }\n",
              "\n",
              "    .colab-df-convert:hover {\n",
              "      background-color: #E2EBFA;\n",
              "      box-shadow: 0px 1px 2px rgba(60, 64, 67, 0.3), 0px 1px 3px 1px rgba(60, 64, 67, 0.15);\n",
              "      fill: #174EA6;\n",
              "    }\n",
              "\n",
              "    [theme=dark] .colab-df-convert {\n",
              "      background-color: #3B4455;\n",
              "      fill: #D2E3FC;\n",
              "    }\n",
              "\n",
              "    [theme=dark] .colab-df-convert:hover {\n",
              "      background-color: #434B5C;\n",
              "      box-shadow: 0px 1px 3px 1px rgba(0, 0, 0, 0.15);\n",
              "      filter: drop-shadow(0px 1px 2px rgba(0, 0, 0, 0.3));\n",
              "      fill: #FFFFFF;\n",
              "    }\n",
              "  </style>\n",
              "\n",
              "      <script>\n",
              "        const buttonEl =\n",
              "          document.querySelector('#df-659842fe-0055-4375-b145-ca17e1ef402f button.colab-df-convert');\n",
              "        buttonEl.style.display =\n",
              "          google.colab.kernel.accessAllowed ? 'block' : 'none';\n",
              "\n",
              "        async function convertToInteractive(key) {\n",
              "          const element = document.querySelector('#df-659842fe-0055-4375-b145-ca17e1ef402f');\n",
              "          const dataTable =\n",
              "            await google.colab.kernel.invokeFunction('convertToInteractive',\n",
              "                                                     [key], {});\n",
              "          if (!dataTable) return;\n",
              "\n",
              "          const docLinkHtml = 'Like what you see? Visit the ' +\n",
              "            '<a target=\"_blank\" href=https://colab.research.google.com/notebooks/data_table.ipynb>data table notebook</a>'\n",
              "            + ' to learn more about interactive tables.';\n",
              "          element.innerHTML = '';\n",
              "          dataTable['output_type'] = 'display_data';\n",
              "          await google.colab.output.renderOutput(dataTable, element);\n",
              "          const docLink = document.createElement('div');\n",
              "          docLink.innerHTML = docLinkHtml;\n",
              "          element.appendChild(docLink);\n",
              "        }\n",
              "      </script>\n",
              "    </div>\n",
              "  </div>\n",
              "  "
            ]
          },
          "metadata": {},
          "execution_count": 219
        }
      ]
    },
    {
      "cell_type": "code",
      "source": [
        "#Before estimating waiting times between subsequent issues one must make sure they follow in order.\n",
        "sorted = cleaned_df.sort_values(by = 'created_at', ascending=True)"
      ],
      "metadata": {
        "id": "fd1ttOAzEnBs"
      },
      "execution_count": 220,
      "outputs": []
    },
    {
      "cell_type": "code",
      "source": [
        "#The code defines lenth of the elapsed time in minutes one by one so that each issue has atteched info on the time past since the previous one.\n",
        "tdiffs = {}\n",
        "for i in range (1, sorted.shape[0]):\n",
        "  tdiffs[i] = [(sorted.iloc[i]['created_at'] - sorted.iloc[i - 1]['created_at']).total_seconds() / 60]"
      ],
      "metadata": {
        "id": "MrDZI-NYFOY8"
      },
      "execution_count": 222,
      "outputs": []
    },
    {
      "cell_type": "code",
      "source": [
        "diffs_df = pd.DataFrame(tdiffs)\n",
        "diffs_df = diffs_df.T"
      ],
      "metadata": {
        "id": "s1ZVxWgiGRxZ"
      },
      "execution_count": 223,
      "outputs": []
    },
    {
      "cell_type": "code",
      "source": [
        "diffs_df"
      ],
      "metadata": {
        "colab": {
          "base_uri": "https://localhost:8080/",
          "height": 424
        },
        "id": "j0y8YYSsIGXq",
        "outputId": "39577e42-024d-4b38-9270-1ad4eca677d5"
      },
      "execution_count": null,
      "outputs": [
        {
          "output_type": "execute_result",
          "data": {
            "text/plain": [
              "                   0\n",
              "1        5840.233333\n",
              "2       31680.533333\n",
              "3       24101.783333\n",
              "4       71254.133333\n",
              "5      493332.366667\n",
              "...              ...\n",
              "10449      25.916667\n",
              "10450      13.033333\n",
              "10451      34.516667\n",
              "10452      75.433333\n",
              "10453      33.533333\n",
              "\n",
              "[10453 rows x 1 columns]"
            ],
            "text/html": [
              "\n",
              "  <div id=\"df-9e6e60e1-a61a-4c9b-880b-f848e0e08e08\">\n",
              "    <div class=\"colab-df-container\">\n",
              "      <div>\n",
              "<style scoped>\n",
              "    .dataframe tbody tr th:only-of-type {\n",
              "        vertical-align: middle;\n",
              "    }\n",
              "\n",
              "    .dataframe tbody tr th {\n",
              "        vertical-align: top;\n",
              "    }\n",
              "\n",
              "    .dataframe thead th {\n",
              "        text-align: right;\n",
              "    }\n",
              "</style>\n",
              "<table border=\"1\" class=\"dataframe\">\n",
              "  <thead>\n",
              "    <tr style=\"text-align: right;\">\n",
              "      <th></th>\n",
              "      <th>0</th>\n",
              "    </tr>\n",
              "  </thead>\n",
              "  <tbody>\n",
              "    <tr>\n",
              "      <th>1</th>\n",
              "      <td>5840.233333</td>\n",
              "    </tr>\n",
              "    <tr>\n",
              "      <th>2</th>\n",
              "      <td>31680.533333</td>\n",
              "    </tr>\n",
              "    <tr>\n",
              "      <th>3</th>\n",
              "      <td>24101.783333</td>\n",
              "    </tr>\n",
              "    <tr>\n",
              "      <th>4</th>\n",
              "      <td>71254.133333</td>\n",
              "    </tr>\n",
              "    <tr>\n",
              "      <th>5</th>\n",
              "      <td>493332.366667</td>\n",
              "    </tr>\n",
              "    <tr>\n",
              "      <th>...</th>\n",
              "      <td>...</td>\n",
              "    </tr>\n",
              "    <tr>\n",
              "      <th>10449</th>\n",
              "      <td>25.916667</td>\n",
              "    </tr>\n",
              "    <tr>\n",
              "      <th>10450</th>\n",
              "      <td>13.033333</td>\n",
              "    </tr>\n",
              "    <tr>\n",
              "      <th>10451</th>\n",
              "      <td>34.516667</td>\n",
              "    </tr>\n",
              "    <tr>\n",
              "      <th>10452</th>\n",
              "      <td>75.433333</td>\n",
              "    </tr>\n",
              "    <tr>\n",
              "      <th>10453</th>\n",
              "      <td>33.533333</td>\n",
              "    </tr>\n",
              "  </tbody>\n",
              "</table>\n",
              "<p>10453 rows × 1 columns</p>\n",
              "</div>\n",
              "      <button class=\"colab-df-convert\" onclick=\"convertToInteractive('df-9e6e60e1-a61a-4c9b-880b-f848e0e08e08')\"\n",
              "              title=\"Convert this dataframe to an interactive table.\"\n",
              "              style=\"display:none;\">\n",
              "        \n",
              "  <svg xmlns=\"http://www.w3.org/2000/svg\" height=\"24px\"viewBox=\"0 0 24 24\"\n",
              "       width=\"24px\">\n",
              "    <path d=\"M0 0h24v24H0V0z\" fill=\"none\"/>\n",
              "    <path d=\"M18.56 5.44l.94 2.06.94-2.06 2.06-.94-2.06-.94-.94-2.06-.94 2.06-2.06.94zm-11 1L8.5 8.5l.94-2.06 2.06-.94-2.06-.94L8.5 2.5l-.94 2.06-2.06.94zm10 10l.94 2.06.94-2.06 2.06-.94-2.06-.94-.94-2.06-.94 2.06-2.06.94z\"/><path d=\"M17.41 7.96l-1.37-1.37c-.4-.4-.92-.59-1.43-.59-.52 0-1.04.2-1.43.59L10.3 9.45l-7.72 7.72c-.78.78-.78 2.05 0 2.83L4 21.41c.39.39.9.59 1.41.59.51 0 1.02-.2 1.41-.59l7.78-7.78 2.81-2.81c.8-.78.8-2.07 0-2.86zM5.41 20L4 18.59l7.72-7.72 1.47 1.35L5.41 20z\"/>\n",
              "  </svg>\n",
              "      </button>\n",
              "      \n",
              "  <style>\n",
              "    .colab-df-container {\n",
              "      display:flex;\n",
              "      flex-wrap:wrap;\n",
              "      gap: 12px;\n",
              "    }\n",
              "\n",
              "    .colab-df-convert {\n",
              "      background-color: #E8F0FE;\n",
              "      border: none;\n",
              "      border-radius: 50%;\n",
              "      cursor: pointer;\n",
              "      display: none;\n",
              "      fill: #1967D2;\n",
              "      height: 32px;\n",
              "      padding: 0 0 0 0;\n",
              "      width: 32px;\n",
              "    }\n",
              "\n",
              "    .colab-df-convert:hover {\n",
              "      background-color: #E2EBFA;\n",
              "      box-shadow: 0px 1px 2px rgba(60, 64, 67, 0.3), 0px 1px 3px 1px rgba(60, 64, 67, 0.15);\n",
              "      fill: #174EA6;\n",
              "    }\n",
              "\n",
              "    [theme=dark] .colab-df-convert {\n",
              "      background-color: #3B4455;\n",
              "      fill: #D2E3FC;\n",
              "    }\n",
              "\n",
              "    [theme=dark] .colab-df-convert:hover {\n",
              "      background-color: #434B5C;\n",
              "      box-shadow: 0px 1px 3px 1px rgba(0, 0, 0, 0.15);\n",
              "      filter: drop-shadow(0px 1px 2px rgba(0, 0, 0, 0.3));\n",
              "      fill: #FFFFFF;\n",
              "    }\n",
              "  </style>\n",
              "\n",
              "      <script>\n",
              "        const buttonEl =\n",
              "          document.querySelector('#df-9e6e60e1-a61a-4c9b-880b-f848e0e08e08 button.colab-df-convert');\n",
              "        buttonEl.style.display =\n",
              "          google.colab.kernel.accessAllowed ? 'block' : 'none';\n",
              "\n",
              "        async function convertToInteractive(key) {\n",
              "          const element = document.querySelector('#df-9e6e60e1-a61a-4c9b-880b-f848e0e08e08');\n",
              "          const dataTable =\n",
              "            await google.colab.kernel.invokeFunction('convertToInteractive',\n",
              "                                                     [key], {});\n",
              "          if (!dataTable) return;\n",
              "\n",
              "          const docLinkHtml = 'Like what you see? Visit the ' +\n",
              "            '<a target=\"_blank\" href=https://colab.research.google.com/notebooks/data_table.ipynb>data table notebook</a>'\n",
              "            + ' to learn more about interactive tables.';\n",
              "          element.innerHTML = '';\n",
              "          dataTable['output_type'] = 'display_data';\n",
              "          await google.colab.output.renderOutput(dataTable, element);\n",
              "          const docLink = document.createElement('div');\n",
              "          docLink.innerHTML = docLinkHtml;\n",
              "          element.appendChild(docLink);\n",
              "        }\n",
              "      </script>\n",
              "    </div>\n",
              "  </div>\n",
              "  "
            ]
          },
          "metadata": {},
          "execution_count": 74
        }
      ]
    },
    {
      "cell_type": "code",
      "source": [
        "diffs_df.to_excel('diff.xlsx') #saving data to use later"
      ],
      "metadata": {
        "id": "wL6MUiHFur0Q"
      },
      "execution_count": null,
      "outputs": []
    },
    {
      "cell_type": "markdown",
      "source": [
        "####Repo Level"
      ],
      "metadata": {
        "id": "FxJU5915xQJ1"
      }
    },
    {
      "cell_type": "code",
      "source": [
        "issue_df = pd.read_excel('issues per hour.xlsx') #loading issue data\n",
        "issue_df = issue_df.fillna(0)\n",
        "issue_df.head()"
      ],
      "metadata": {
        "colab": {
          "base_uri": "https://localhost:8080/",
          "height": 206
        },
        "id": "3WFGCC37yA5n",
        "outputId": "97059224-32ed-458a-935c-3220b0873e52"
      },
      "execution_count": 231,
      "outputs": [
        {
          "output_type": "execute_result",
          "data": {
            "text/plain": [
              "   Hour of Created At  Distinct count of Id\n",
              "0   May 11, 2022 4 PM                   1.0\n",
              "1   May 11, 2022 3 PM                   1.0\n",
              "2   May 11, 2022 2 PM                   1.0\n",
              "3   May 11, 2022 1 PM                   3.0\n",
              "4  May 11, 2022 12 PM                   0.0"
            ],
            "text/html": [
              "\n",
              "  <div id=\"df-4e9c1788-8275-40a1-ba80-267e56da13f3\">\n",
              "    <div class=\"colab-df-container\">\n",
              "      <div>\n",
              "<style scoped>\n",
              "    .dataframe tbody tr th:only-of-type {\n",
              "        vertical-align: middle;\n",
              "    }\n",
              "\n",
              "    .dataframe tbody tr th {\n",
              "        vertical-align: top;\n",
              "    }\n",
              "\n",
              "    .dataframe thead th {\n",
              "        text-align: right;\n",
              "    }\n",
              "</style>\n",
              "<table border=\"1\" class=\"dataframe\">\n",
              "  <thead>\n",
              "    <tr style=\"text-align: right;\">\n",
              "      <th></th>\n",
              "      <th>Hour of Created At</th>\n",
              "      <th>Distinct count of Id</th>\n",
              "    </tr>\n",
              "  </thead>\n",
              "  <tbody>\n",
              "    <tr>\n",
              "      <th>0</th>\n",
              "      <td>May 11, 2022 4 PM</td>\n",
              "      <td>1.0</td>\n",
              "    </tr>\n",
              "    <tr>\n",
              "      <th>1</th>\n",
              "      <td>May 11, 2022 3 PM</td>\n",
              "      <td>1.0</td>\n",
              "    </tr>\n",
              "    <tr>\n",
              "      <th>2</th>\n",
              "      <td>May 11, 2022 2 PM</td>\n",
              "      <td>1.0</td>\n",
              "    </tr>\n",
              "    <tr>\n",
              "      <th>3</th>\n",
              "      <td>May 11, 2022 1 PM</td>\n",
              "      <td>3.0</td>\n",
              "    </tr>\n",
              "    <tr>\n",
              "      <th>4</th>\n",
              "      <td>May 11, 2022 12 PM</td>\n",
              "      <td>0.0</td>\n",
              "    </tr>\n",
              "  </tbody>\n",
              "</table>\n",
              "</div>\n",
              "      <button class=\"colab-df-convert\" onclick=\"convertToInteractive('df-4e9c1788-8275-40a1-ba80-267e56da13f3')\"\n",
              "              title=\"Convert this dataframe to an interactive table.\"\n",
              "              style=\"display:none;\">\n",
              "        \n",
              "  <svg xmlns=\"http://www.w3.org/2000/svg\" height=\"24px\"viewBox=\"0 0 24 24\"\n",
              "       width=\"24px\">\n",
              "    <path d=\"M0 0h24v24H0V0z\" fill=\"none\"/>\n",
              "    <path d=\"M18.56 5.44l.94 2.06.94-2.06 2.06-.94-2.06-.94-.94-2.06-.94 2.06-2.06.94zm-11 1L8.5 8.5l.94-2.06 2.06-.94-2.06-.94L8.5 2.5l-.94 2.06-2.06.94zm10 10l.94 2.06.94-2.06 2.06-.94-2.06-.94-.94-2.06-.94 2.06-2.06.94z\"/><path d=\"M17.41 7.96l-1.37-1.37c-.4-.4-.92-.59-1.43-.59-.52 0-1.04.2-1.43.59L10.3 9.45l-7.72 7.72c-.78.78-.78 2.05 0 2.83L4 21.41c.39.39.9.59 1.41.59.51 0 1.02-.2 1.41-.59l7.78-7.78 2.81-2.81c.8-.78.8-2.07 0-2.86zM5.41 20L4 18.59l7.72-7.72 1.47 1.35L5.41 20z\"/>\n",
              "  </svg>\n",
              "      </button>\n",
              "      \n",
              "  <style>\n",
              "    .colab-df-container {\n",
              "      display:flex;\n",
              "      flex-wrap:wrap;\n",
              "      gap: 12px;\n",
              "    }\n",
              "\n",
              "    .colab-df-convert {\n",
              "      background-color: #E8F0FE;\n",
              "      border: none;\n",
              "      border-radius: 50%;\n",
              "      cursor: pointer;\n",
              "      display: none;\n",
              "      fill: #1967D2;\n",
              "      height: 32px;\n",
              "      padding: 0 0 0 0;\n",
              "      width: 32px;\n",
              "    }\n",
              "\n",
              "    .colab-df-convert:hover {\n",
              "      background-color: #E2EBFA;\n",
              "      box-shadow: 0px 1px 2px rgba(60, 64, 67, 0.3), 0px 1px 3px 1px rgba(60, 64, 67, 0.15);\n",
              "      fill: #174EA6;\n",
              "    }\n",
              "\n",
              "    [theme=dark] .colab-df-convert {\n",
              "      background-color: #3B4455;\n",
              "      fill: #D2E3FC;\n",
              "    }\n",
              "\n",
              "    [theme=dark] .colab-df-convert:hover {\n",
              "      background-color: #434B5C;\n",
              "      box-shadow: 0px 1px 3px 1px rgba(0, 0, 0, 0.15);\n",
              "      filter: drop-shadow(0px 1px 2px rgba(0, 0, 0, 0.3));\n",
              "      fill: #FFFFFF;\n",
              "    }\n",
              "  </style>\n",
              "\n",
              "      <script>\n",
              "        const buttonEl =\n",
              "          document.querySelector('#df-4e9c1788-8275-40a1-ba80-267e56da13f3 button.colab-df-convert');\n",
              "        buttonEl.style.display =\n",
              "          google.colab.kernel.accessAllowed ? 'block' : 'none';\n",
              "\n",
              "        async function convertToInteractive(key) {\n",
              "          const element = document.querySelector('#df-4e9c1788-8275-40a1-ba80-267e56da13f3');\n",
              "          const dataTable =\n",
              "            await google.colab.kernel.invokeFunction('convertToInteractive',\n",
              "                                                     [key], {});\n",
              "          if (!dataTable) return;\n",
              "\n",
              "          const docLinkHtml = 'Like what you see? Visit the ' +\n",
              "            '<a target=\"_blank\" href=https://colab.research.google.com/notebooks/data_table.ipynb>data table notebook</a>'\n",
              "            + ' to learn more about interactive tables.';\n",
              "          element.innerHTML = '';\n",
              "          dataTable['output_type'] = 'display_data';\n",
              "          await google.colab.output.renderOutput(dataTable, element);\n",
              "          const docLink = document.createElement('div');\n",
              "          docLink.innerHTML = docLinkHtml;\n",
              "          element.appendChild(docLink);\n",
              "        }\n",
              "      </script>\n",
              "    </div>\n",
              "  </div>\n",
              "  "
            ]
          },
          "metadata": {},
          "execution_count": 231
        }
      ]
    },
    {
      "cell_type": "markdown",
      "source": [
        "######Avalanche size"
      ],
      "metadata": {
        "id": "4M4xL0SCK0Vt"
      }
    },
    {
      "cell_type": "code",
      "execution_count": 167,
      "metadata": {
        "id": "63jyPOhrRKRP"
      },
      "outputs": [],
      "source": [
        "# for known number of avalanches we compute durations of each single one by computing the total number of issues for subsequent bins with non-zero value of issue created\n",
        "list_av = {}\n",
        "list_av['0'] = 1 #initializing the first bin\n",
        "j = 0\n",
        "for i in range(1, 51145):\n",
        "  if issue_df['Distinct count of Id'].iloc[i - 1] < 1 and issue_df['Distinct count of Id'][i] > 0:\n",
        "    j += 1\n",
        "    list_av[str(j)] = 0\n",
        "    list_av[str(j)] += issue_df['Distinct count of Id'][i]\n",
        "  elif issue_df['Distinct count of Id'][i] > 0:\n",
        "    list_av[str(j)] += issue_df['Distinct count of Id'][i]"
      ]
    },
    {
      "cell_type": "code",
      "source": [
        "#Saving the data for the subsequent analysis\n",
        "size_df = pd.DataFrame(list_av, index=[0])\n",
        "size_df.T.to_excel('size_data.xlsx')"
      ],
      "metadata": {
        "id": "ujIG9Srwt5gg"
      },
      "execution_count": 127,
      "outputs": []
    },
    {
      "cell_type": "code",
      "source": [
        "size_df = pd.read_excel('size_data.xlsx')"
      ],
      "metadata": {
        "id": "YG4Rl_uzB_YA"
      },
      "execution_count": 177,
      "outputs": []
    },
    {
      "cell_type": "code",
      "source": [
        "pmfAvSize = Pmf.from_seq(size_df[0]) #getting mass probability data from the empirical data"
      ],
      "metadata": {
        "id": "ViPulVeptNyo"
      },
      "execution_count": 181,
      "outputs": []
    },
    {
      "cell_type": "markdown",
      "source": [
        "#####Avalanche duration"
      ],
      "metadata": {
        "id": "n0pLlobtK774"
      }
    },
    {
      "cell_type": "code",
      "source": [
        "# for known number of avalanches we compute durations of each single one by counting number of subsequent bins with non-zero value of issue created\n",
        "list_durations = [[0.0, 0.0] for j in range(4124)] #the first number corresponds to avalanch duration and the second to the waiting-times as counts intermittent bins\n",
        "list_durations[0] = [1.0, 1] #for the first one there is no previous avalanch\n",
        "j = 0\n",
        "for i in range(1, 51145):\n",
        "  if issue_df['Distinct count of Id'].iloc[i - 1] < 1.0 and issue_df['Distinct count of Id'][i] > 0:\n",
        "    j += 1\n",
        "    list_durations[j][0] += 1\n",
        "    list_durations[j][1] = i\n",
        "  elif issue_df['Distinct count of Id'][i] > 0:\n",
        "    list_durations[j][0] += 1\n",
        "  elif issue_df['Distinct count of Id'][i - 1] < 1.0:\n",
        "        list_durations[j][1] += (1)"
      ],
      "metadata": {
        "id": "VGj19BIQvDkS"
      },
      "execution_count": 242,
      "outputs": []
    },
    {
      "cell_type": "code",
      "source": [
        "pmfAvDurations = Pmf.from_seq([l[0] for l in list_durations]) #getting mass probability data from the empirical data"
      ],
      "metadata": {
        "id": "THeCFHTlr9M8"
      },
      "execution_count": 246,
      "outputs": []
    },
    {
      "cell_type": "code",
      "source": [
        "pmfAvDurations.plot(logy = True, logx=True, xlabel = 'Avalanch duration', ylabel = 'PMF')\n"
      ],
      "metadata": {
        "colab": {
          "base_uri": "https://localhost:8080/",
          "height": 301
        },
        "id": "2d79QO_MsMh7",
        "outputId": "2ec33930-e6bc-4b92-81b0-14350659e7fd"
      },
      "execution_count": 251,
      "outputs": [
        {
          "output_type": "execute_result",
          "data": {
            "text/plain": [
              "<matplotlib.axes._subplots.AxesSubplot at 0x7fe72d5ca5d0>"
            ]
          },
          "metadata": {},
          "execution_count": 251
        },
        {
          "output_type": "display_data",
          "data": {
            "text/plain": [
              "<Figure size 432x288 with 1 Axes>"
            ],
            "image/png": "[encoded data removed]"
          },
          "metadata": {
            "needs_background": "light"
          }
        }
      ]
    },
    {
      "cell_type": "markdown",
      "source": [
        "#####Alternative"
      ],
      "metadata": {
        "id": "wpw-rqV0NBqn"
      }
    },
    {
      "cell_type": "code",
      "source": [
        "list_dur = [datetime.strptime(issue_df['Hour of Created At'].iloc[av[1]], \"%B %d, %Y %I %p\") for av in list_durations]\n",
        "list_durs = [abs((list_dur[i] - list_dur[i - 1]).total_seconds() // 60) for i in range(1, 4123)]\n",
        "list_durs"
      ],
      "metadata": {
        "id": "Kvwz11WUD057"
      },
      "execution_count": null,
      "outputs": []
    },
    {
      "cell_type": "code",
      "source": [
        "av_dur_series = pd.Series(list_durs)"
      ],
      "metadata": {
        "id": "xdfeutBm7EQJ"
      },
      "execution_count": 244,
      "outputs": []
    },
    {
      "cell_type": "code",
      "source": [
        "pmfAvDur = Pmf.from_seq(av_dur_series[av_dur_series > 60])\n",
        "pmfAvDur.plot(logy=True, logx=True, xlim=(0, 10000))"
      ],
      "metadata": {
        "colab": {
          "base_uri": "https://localhost:8080/",
          "height": 364
        },
        "id": "dFlg98Xp5nwp",
        "outputId": "ab5ee7ad-d9f4-4085-a61b-38c5d32e34d4"
      },
      "execution_count": null,
      "outputs": [
        {
          "output_type": "stream",
          "name": "stderr",
          "text": [
            "/usr/local/lib/python3.7/dist-packages/pandas/plotting/_matplotlib/core.py:518: UserWarning: Attempted to set non-positive left xlim on a log-scaled axis.\n",
            "Invalid limit will be ignored.\n",
            "  ax.set_xlim(self.xlim)\n"
          ]
        },
        {
          "output_type": "execute_result",
          "data": {
            "text/plain": [
              "<matplotlib.axes._subplots.AxesSubplot at 0x7f0c84edf150>"
            ]
          },
          "metadata": {},
          "execution_count": 120
        },
        {
          "output_type": "display_data",
          "data": {
            "text/plain": [
              "<Figure size 432x288 with 1 Axes>"
            ],
            "image/png": "[encoded data removed]"
          },
          "metadata": {
            "needs_background": "light"
          }
        }
      ]
    },
    {
      "cell_type": "code",
      "source": [
        "dur = pd.DataFrame(list_dur, index=[0])"
      ],
      "metadata": {
        "id": "wAwyKnKbynRe"
      },
      "execution_count": null,
      "outputs": []
    },
    {
      "cell_type": "code",
      "source": [
        "dur.T.to_excel('av_dur.xlsx')"
      ],
      "metadata": {
        "id": "6_uRkuoC4ikM"
      },
      "execution_count": null,
      "outputs": []
    },
    {
      "cell_type": "code",
      "source": [
        "df = pd.DataFrame(list_av)"
      ],
      "metadata": {
        "id": "0s9gi_cGt3nZ"
      },
      "execution_count": null,
      "outputs": []
    },
    {
      "cell_type": "code",
      "source": [
        "df.T.to_excel('list_avxlsx')"
      ],
      "metadata": {
        "id": "M4E741Chpdhf"
      },
      "execution_count": null,
      "outputs": []
    },
    {
      "cell_type": "markdown",
      "source": [
        "#####Numerical durations and waiting times"
      ],
      "metadata": {
        "id": "1nOF2QV_NMTW"
      }
    },
    {
      "cell_type": "code",
      "source": [
        "temporal_dict = {'Durations':[av[0] for av in list_durations], 'Waiting times':[av[1] for av in list_durations]}\n",
        "temporal_df = pd.DataFrame(temporal_dict)\n",
        "temporal_df"
      ],
      "metadata": {
        "id": "-6BJzWozNXIn"
      },
      "execution_count": null,
      "outputs": []
    },
    {
      "cell_type": "code",
      "source": [
        "temporal_df.to_excel('temporal_data.xlsx')\n",
        "temporal_df = pd.read_excel('temporal_data.xlsx')"
      ],
      "metadata": {
        "id": "ds1dD4GKtyQL"
      },
      "execution_count": 131,
      "outputs": []
    },
    {
      "cell_type": "markdown",
      "source": [
        "### Problem level"
      ],
      "metadata": {
        "id": "9UnvCVXcu0Ci"
      }
    },
    {
      "cell_type": "markdown",
      "source": [
        "####Getting PMF"
      ],
      "metadata": {
        "id": "BK0eLdEtwYEm"
      }
    },
    {
      "cell_type": "code",
      "source": [
        "#Loading prepared data on waiting times and avalanche size\n",
        "diffs_df = pd.read_excel('diffs.xlsx')\n",
        "activity_df = pd.read_excel('cleaned.xlsx')"
      ],
      "metadata": {
        "id": "JEvxvmB6JSX0"
      },
      "execution_count": null,
      "outputs": []
    },
    {
      "cell_type": "code",
      "source": [
        "#Getting probability mass function and cumulative distribution function for waiting-times\n",
        "pmfDiff = Pmf.from_seq(diffs_df[0][diffs_df[0] > 1])\n",
        "cdfDiff = Cdf.from_seq(diffs_df[0][diffs_df[0] > 1])"
      ],
      "metadata": {
        "id": "HQgXmkaKOx19"
      },
      "execution_count": null,
      "outputs": []
    },
    {
      "cell_type": "code",
      "source": [
        "#Visualizing pmf and pdf obtained on the step\n",
        "plt.figure(figsize=(12, 5))\n",
        "\n",
        "plt.subplot(1, 2, 1)\n",
        "pmfDiff.plot(logy = True, logx = True, xlabel = 'Waiting time', ylabel = 'PMF', color='pink')\n",
        "\n",
        "\n",
        "plt.subplot(1, 2, 2)\n",
        "cdfDiff.plot(logy = True, logx = True, xlabel = 'Waiting time', ylabel = 'CDF', color='pink')\n"
      ],
      "metadata": {
        "colab": {
          "base_uri": "https://localhost:8080/",
          "height": 357
        },
        "id": "GC-Fv8TGerjf",
        "outputId": "d3391cb4-0eae-4f60-889c-abc9c56ea760"
      },
      "execution_count": null,
      "outputs": [
        {
          "output_type": "execute_result",
          "data": {
            "text/plain": [
              "<matplotlib.axes._subplots.AxesSubplot at 0x7f50e295b110>"
            ]
          },
          "metadata": {},
          "execution_count": 17
        },
        {
          "output_type": "display_data",
          "data": {
            "text/plain": [
              "<Figure size 864x360 with 2 Axes>"
            ],
            "image/png": "[encoded data removed]"
          },
          "metadata": {
            "needs_background": "light"
          }
        }
      ]
    },
    {
      "cell_type": "code",
      "source": [
        "cdfDiff.plot(logy = True, logx = True, color='pink')"
      ],
      "metadata": {
        "colab": {
          "base_uri": "https://localhost:8080/",
          "height": 288
        },
        "id": "su0jbt2ciuwI",
        "outputId": "43431525-d4ca-4fe9-fa01-d57d614865f1"
      },
      "execution_count": null,
      "outputs": [
        {
          "output_type": "execute_result",
          "data": {
            "text/plain": [
              "<matplotlib.axes._subplots.AxesSubplot at 0x7fe2b54a1310>"
            ]
          },
          "metadata": {},
          "execution_count": 125
        },
        {
          "output_type": "display_data",
          "data": {
            "text/plain": [
              "<Figure size 432x288 with 1 Axes>"
            ],
            "image/png": "[encoded data removed]"
          },
          "metadata": {
            "needs_background": "light"
          }
        }
      ]
    },
    {
      "cell_type": "markdown",
      "source": [
        "####Fitting"
      ],
      "metadata": {
        "id": "fbrBvBD0vFq7"
      }
    },
    {
      "cell_type": "code",
      "execution_count": 114,
      "metadata": {
        "id": "emJ653eF0Oo6"
      },
      "outputs": [],
      "source": [
        "issue_df_agg = pd.read_excel('cleaned.xlsx')"
      ]
    },
    {
      "cell_type": "code",
      "source": [
        "issue_df_agg.tail()"
      ],
      "metadata": {
        "colab": {
          "base_uri": "https://localhost:8080/",
          "height": 206
        },
        "id": "lkEoxiBrQWzL",
        "outputId": "95cdaf17-c612-4228-be34-daaf05c1f05a"
      },
      "execution_count": 115,
      "outputs": [
        {
          "output_type": "execute_result",
          "data": {
            "text/plain": [
              "        Issue ID  Events Num  Comments Num  Minutes\n",
              "11454  109616822           8             8 -3399823\n",
              "11455  108376497           5             2 -3410987\n",
              "11456  107794838          20            25 -3415091\n",
              "11457  104983422           8             2 -3440867\n",
              "11458  100818968          12             3 -3264739"
            ],
            "text/html": [
              "\n",
              "  <div id=\"df-3325e861-650d-451d-a1a2-5ef8307ed748\">\n",
              "    <div class=\"colab-df-container\">\n",
              "      <div>\n",
              "<style scoped>\n",
              "    .dataframe tbody tr th:only-of-type {\n",
              "        vertical-align: middle;\n",
              "    }\n",
              "\n",
              "    .dataframe tbody tr th {\n",
              "        vertical-align: top;\n",
              "    }\n",
              "\n",
              "    .dataframe thead th {\n",
              "        text-align: right;\n",
              "    }\n",
              "</style>\n",
              "<table border=\"1\" class=\"dataframe\">\n",
              "  <thead>\n",
              "    <tr style=\"text-align: right;\">\n",
              "      <th></th>\n",
              "      <th>Issue ID</th>\n",
              "      <th>Events Num</th>\n",
              "      <th>Comments Num</th>\n",
              "      <th>Minutes</th>\n",
              "    </tr>\n",
              "  </thead>\n",
              "  <tbody>\n",
              "    <tr>\n",
              "      <th>11454</th>\n",
              "      <td>109616822</td>\n",
              "      <td>8</td>\n",
              "      <td>8</td>\n",
              "      <td>-3399823</td>\n",
              "    </tr>\n",
              "    <tr>\n",
              "      <th>11455</th>\n",
              "      <td>108376497</td>\n",
              "      <td>5</td>\n",
              "      <td>2</td>\n",
              "      <td>-3410987</td>\n",
              "    </tr>\n",
              "    <tr>\n",
              "      <th>11456</th>\n",
              "      <td>107794838</td>\n",
              "      <td>20</td>\n",
              "      <td>25</td>\n",
              "      <td>-3415091</td>\n",
              "    </tr>\n",
              "    <tr>\n",
              "      <th>11457</th>\n",
              "      <td>104983422</td>\n",
              "      <td>8</td>\n",
              "      <td>2</td>\n",
              "      <td>-3440867</td>\n",
              "    </tr>\n",
              "    <tr>\n",
              "      <th>11458</th>\n",
              "      <td>100818968</td>\n",
              "      <td>12</td>\n",
              "      <td>3</td>\n",
              "      <td>-3264739</td>\n",
              "    </tr>\n",
              "  </tbody>\n",
              "</table>\n",
              "</div>\n",
              "      <button class=\"colab-df-convert\" onclick=\"convertToInteractive('df-3325e861-650d-451d-a1a2-5ef8307ed748')\"\n",
              "              title=\"Convert this dataframe to an interactive table.\"\n",
              "              style=\"display:none;\">\n",
              "        \n",
              "  <svg xmlns=\"http://www.w3.org/2000/svg\" height=\"24px\"viewBox=\"0 0 24 24\"\n",
              "       width=\"24px\">\n",
              "    <path d=\"M0 0h24v24H0V0z\" fill=\"none\"/>\n",
              "    <path d=\"M18.56 5.44l.94 2.06.94-2.06 2.06-.94-2.06-.94-.94-2.06-.94 2.06-2.06.94zm-11 1L8.5 8.5l.94-2.06 2.06-.94-2.06-.94L8.5 2.5l-.94 2.06-2.06.94zm10 10l.94 2.06.94-2.06 2.06-.94-2.06-.94-.94-2.06-.94 2.06-2.06.94z\"/><path d=\"M17.41 7.96l-1.37-1.37c-.4-.4-.92-.59-1.43-.59-.52 0-1.04.2-1.43.59L10.3 9.45l-7.72 7.72c-.78.78-.78 2.05 0 2.83L4 21.41c.39.39.9.59 1.41.59.51 0 1.02-.2 1.41-.59l7.78-7.78 2.81-2.81c.8-.78.8-2.07 0-2.86zM5.41 20L4 18.59l7.72-7.72 1.47 1.35L5.41 20z\"/>\n",
              "  </svg>\n",
              "      </button>\n",
              "      \n",
              "  <style>\n",
              "    .colab-df-container {\n",
              "      display:flex;\n",
              "      flex-wrap:wrap;\n",
              "      gap: 12px;\n",
              "    }\n",
              "\n",
              "    .colab-df-convert {\n",
              "      background-color: #E8F0FE;\n",
              "      border: none;\n",
              "      border-radius: 50%;\n",
              "      cursor: pointer;\n",
              "      display: none;\n",
              "      fill: #1967D2;\n",
              "      height: 32px;\n",
              "      padding: 0 0 0 0;\n",
              "      width: 32px;\n",
              "    }\n",
              "\n",
              "    .colab-df-convert:hover {\n",
              "      background-color: #E2EBFA;\n",
              "      box-shadow: 0px 1px 2px rgba(60, 64, 67, 0.3), 0px 1px 3px 1px rgba(60, 64, 67, 0.15);\n",
              "      fill: #174EA6;\n",
              "    }\n",
              "\n",
              "    [theme=dark] .colab-df-convert {\n",
              "      background-color: #3B4455;\n",
              "      fill: #D2E3FC;\n",
              "    }\n",
              "\n",
              "    [theme=dark] .colab-df-convert:hover {\n",
              "      background-color: #434B5C;\n",
              "      box-shadow: 0px 1px 3px 1px rgba(0, 0, 0, 0.15);\n",
              "      filter: drop-shadow(0px 1px 2px rgba(0, 0, 0, 0.3));\n",
              "      fill: #FFFFFF;\n",
              "    }\n",
              "  </style>\n",
              "\n",
              "      <script>\n",
              "        const buttonEl =\n",
              "          document.querySelector('#df-3325e861-650d-451d-a1a2-5ef8307ed748 button.colab-df-convert');\n",
              "        buttonEl.style.display =\n",
              "          google.colab.kernel.accessAllowed ? 'block' : 'none';\n",
              "\n",
              "        async function convertToInteractive(key) {\n",
              "          const element = document.querySelector('#df-3325e861-650d-451d-a1a2-5ef8307ed748');\n",
              "          const dataTable =\n",
              "            await google.colab.kernel.invokeFunction('convertToInteractive',\n",
              "                                                     [key], {});\n",
              "          if (!dataTable) return;\n",
              "\n",
              "          const docLinkHtml = 'Like what you see? Visit the ' +\n",
              "            '<a target=\"_blank\" href=https://colab.research.google.com/notebooks/data_table.ipynb>data table notebook</a>'\n",
              "            + ' to learn more about interactive tables.';\n",
              "          element.innerHTML = '';\n",
              "          dataTable['output_type'] = 'display_data';\n",
              "          await google.colab.output.renderOutput(dataTable, element);\n",
              "          const docLink = document.createElement('div');\n",
              "          docLink.innerHTML = docLinkHtml;\n",
              "          element.appendChild(docLink);\n",
              "        }\n",
              "      </script>\n",
              "    </div>\n",
              "  </div>\n",
              "  "
            ]
          },
          "metadata": {},
          "execution_count": 115
        }
      ]
    },
    {
      "cell_type": "code",
      "source": [
        "#The issues got sorted into inverse order thusnegative duration of elapsed time wereobtained\n",
        "issue_df_agg[issue_df_agg['Minutes'] < 0] = issue_df_agg[issue_df_agg['Minutes'] < 0].apply(abs)\n",
        "issue_df_agg"
      ],
      "metadata": {
        "colab": {
          "base_uri": "https://localhost:8080/",
          "height": 424
        },
        "id": "I9w33j_BVF3i",
        "outputId": "4c97d49d-8b10-4ba3-ee73-047d44ae2749"
      },
      "execution_count": 17,
      "outputs": [
        {
          "output_type": "execute_result",
          "data": {
            "text/plain": [
              "         Issue ID  Events Num  Comments Num  Minutes\n",
              "0      1038970792          17             5     1082\n",
              "1      1038968824          10             2    15495\n",
              "2      1038962223          43            45   132704\n",
              "3      1038860101           1             2        7\n",
              "4      1038643050          10             5   220869\n",
              "...           ...         ...           ...      ...\n",
              "11454   109616822           8             8  3399823\n",
              "11455   108376497           5             2  3410987\n",
              "11456   107794838          20            25  3415091\n",
              "11457   104983422           8             2  3440867\n",
              "11458   100818968          12             3  3264739\n",
              "\n",
              "[11459 rows x 4 columns]"
            ],
            "text/html": [
              "\n",
              "  <div id=\"df-2cf444b5-f44c-49b3-ad2a-c2310d14a25a\">\n",
              "    <div class=\"colab-df-container\">\n",
              "      <div>\n",
              "<style scoped>\n",
              "    .dataframe tbody tr th:only-of-type {\n",
              "        vertical-align: middle;\n",
              "    }\n",
              "\n",
              "    .dataframe tbody tr th {\n",
              "        vertical-align: top;\n",
              "    }\n",
              "\n",
              "    .dataframe thead th {\n",
              "        text-align: right;\n",
              "    }\n",
              "</style>\n",
              "<table border=\"1\" class=\"dataframe\">\n",
              "  <thead>\n",
              "    <tr style=\"text-align: right;\">\n",
              "      <th></th>\n",
              "      <th>Issue ID</th>\n",
              "      <th>Events Num</th>\n",
              "      <th>Comments Num</th>\n",
              "      <th>Minutes</th>\n",
              "    </tr>\n",
              "  </thead>\n",
              "  <tbody>\n",
              "    <tr>\n",
              "      <th>0</th>\n",
              "      <td>1038970792</td>\n",
              "      <td>17</td>\n",
              "      <td>5</td>\n",
              "      <td>1082</td>\n",
              "    </tr>\n",
              "    <tr>\n",
              "      <th>1</th>\n",
              "      <td>1038968824</td>\n",
              "      <td>10</td>\n",
              "      <td>2</td>\n",
              "      <td>15495</td>\n",
              "    </tr>\n",
              "    <tr>\n",
              "      <th>2</th>\n",
              "      <td>1038962223</td>\n",
              "      <td>43</td>\n",
              "      <td>45</td>\n",
              "      <td>132704</td>\n",
              "    </tr>\n",
              "    <tr>\n",
              "      <th>3</th>\n",
              "      <td>1038860101</td>\n",
              "      <td>1</td>\n",
              "      <td>2</td>\n",
              "      <td>7</td>\n",
              "    </tr>\n",
              "    <tr>\n",
              "      <th>4</th>\n",
              "      <td>1038643050</td>\n",
              "      <td>10</td>\n",
              "      <td>5</td>\n",
              "      <td>220869</td>\n",
              "    </tr>\n",
              "    <tr>\n",
              "      <th>...</th>\n",
              "      <td>...</td>\n",
              "      <td>...</td>\n",
              "      <td>...</td>\n",
              "      <td>...</td>\n",
              "    </tr>\n",
              "    <tr>\n",
              "      <th>11454</th>\n",
              "      <td>109616822</td>\n",
              "      <td>8</td>\n",
              "      <td>8</td>\n",
              "      <td>3399823</td>\n",
              "    </tr>\n",
              "    <tr>\n",
              "      <th>11455</th>\n",
              "      <td>108376497</td>\n",
              "      <td>5</td>\n",
              "      <td>2</td>\n",
              "      <td>3410987</td>\n",
              "    </tr>\n",
              "    <tr>\n",
              "      <th>11456</th>\n",
              "      <td>107794838</td>\n",
              "      <td>20</td>\n",
              "      <td>25</td>\n",
              "      <td>3415091</td>\n",
              "    </tr>\n",
              "    <tr>\n",
              "      <th>11457</th>\n",
              "      <td>104983422</td>\n",
              "      <td>8</td>\n",
              "      <td>2</td>\n",
              "      <td>3440867</td>\n",
              "    </tr>\n",
              "    <tr>\n",
              "      <th>11458</th>\n",
              "      <td>100818968</td>\n",
              "      <td>12</td>\n",
              "      <td>3</td>\n",
              "      <td>3264739</td>\n",
              "    </tr>\n",
              "  </tbody>\n",
              "</table>\n",
              "<p>11459 rows × 4 columns</p>\n",
              "</div>\n",
              "      <button class=\"colab-df-convert\" onclick=\"convertToInteractive('df-2cf444b5-f44c-49b3-ad2a-c2310d14a25a')\"\n",
              "              title=\"Convert this dataframe to an interactive table.\"\n",
              "              style=\"display:none;\">\n",
              "        \n",
              "  <svg xmlns=\"http://www.w3.org/2000/svg\" height=\"24px\"viewBox=\"0 0 24 24\"\n",
              "       width=\"24px\">\n",
              "    <path d=\"M0 0h24v24H0V0z\" fill=\"none\"/>\n",
              "    <path d=\"M18.56 5.44l.94 2.06.94-2.06 2.06-.94-2.06-.94-.94-2.06-.94 2.06-2.06.94zm-11 1L8.5 8.5l.94-2.06 2.06-.94-2.06-.94L8.5 2.5l-.94 2.06-2.06.94zm10 10l.94 2.06.94-2.06 2.06-.94-2.06-.94-.94-2.06-.94 2.06-2.06.94z\"/><path d=\"M17.41 7.96l-1.37-1.37c-.4-.4-.92-.59-1.43-.59-.52 0-1.04.2-1.43.59L10.3 9.45l-7.72 7.72c-.78.78-.78 2.05 0 2.83L4 21.41c.39.39.9.59 1.41.59.51 0 1.02-.2 1.41-.59l7.78-7.78 2.81-2.81c.8-.78.8-2.07 0-2.86zM5.41 20L4 18.59l7.72-7.72 1.47 1.35L5.41 20z\"/>\n",
              "  </svg>\n",
              "      </button>\n",
              "      \n",
              "  <style>\n",
              "    .colab-df-container {\n",
              "      display:flex;\n",
              "      flex-wrap:wrap;\n",
              "      gap: 12px;\n",
              "    }\n",
              "\n",
              "    .colab-df-convert {\n",
              "      background-color: #E8F0FE;\n",
              "      border: none;\n",
              "      border-radius: 50%;\n",
              "      cursor: pointer;\n",
              "      display: none;\n",
              "      fill: #1967D2;\n",
              "      height: 32px;\n",
              "      padding: 0 0 0 0;\n",
              "      width: 32px;\n",
              "    }\n",
              "\n",
              "    .colab-df-convert:hover {\n",
              "      background-color: #E2EBFA;\n",
              "      box-shadow: 0px 1px 2px rgba(60, 64, 67, 0.3), 0px 1px 3px 1px rgba(60, 64, 67, 0.15);\n",
              "      fill: #174EA6;\n",
              "    }\n",
              "\n",
              "    [theme=dark] .colab-df-convert {\n",
              "      background-color: #3B4455;\n",
              "      fill: #D2E3FC;\n",
              "    }\n",
              "\n",
              "    [theme=dark] .colab-df-convert:hover {\n",
              "      background-color: #434B5C;\n",
              "      box-shadow: 0px 1px 3px 1px rgba(0, 0, 0, 0.15);\n",
              "      filter: drop-shadow(0px 1px 2px rgba(0, 0, 0, 0.3));\n",
              "      fill: #FFFFFF;\n",
              "    }\n",
              "  </style>\n",
              "\n",
              "      <script>\n",
              "        const buttonEl =\n",
              "          document.querySelector('#df-2cf444b5-f44c-49b3-ad2a-c2310d14a25a button.colab-df-convert');\n",
              "        buttonEl.style.display =\n",
              "          google.colab.kernel.accessAllowed ? 'block' : 'none';\n",
              "\n",
              "        async function convertToInteractive(key) {\n",
              "          const element = document.querySelector('#df-2cf444b5-f44c-49b3-ad2a-c2310d14a25a');\n",
              "          const dataTable =\n",
              "            await google.colab.kernel.invokeFunction('convertToInteractive',\n",
              "                                                     [key], {});\n",
              "          if (!dataTable) return;\n",
              "\n",
              "          const docLinkHtml = 'Like what you see? Visit the ' +\n",
              "            '<a target=\"_blank\" href=https://colab.research.google.com/notebooks/data_table.ipynb>data table notebook</a>'\n",
              "            + ' to learn more about interactive tables.';\n",
              "          element.innerHTML = '';\n",
              "          dataTable['output_type'] = 'display_data';\n",
              "          await google.colab.output.renderOutput(dataTable, element);\n",
              "          const docLink = document.createElement('div');\n",
              "          docLink.innerHTML = docLinkHtml;\n",
              "          element.appendChild(docLink);\n",
              "        }\n",
              "      </script>\n",
              "    </div>\n",
              "  </div>\n",
              "  "
            ]
          },
          "metadata": {},
          "execution_count": 17
        }
      ]
    },
    {
      "cell_type": "code",
      "source": [
        "pmfT = Pmf.from_seq((issue_df_agg[issue_df_agg['Minutes'] > 0])['Minutes']) #excluding to small avalanches that are probably issues made by mistake\n",
        "pmfSComm = Pmf.from_seq((issue_df_agg[issue_df_agg['Comments Num'] > 1])['Comments Num']) #excluding trivial issues"
      ],
      "metadata": {
        "id": "JnFpgrGKd-7b"
      },
      "execution_count": 18,
      "outputs": []
    },
    {
      "cell_type": "code",
      "source": [
        "pmfSComm.to_excel('pmfSComm.xlsx')\n",
        "pmfT.to_excel('pmfT.xlsx')"
      ],
      "metadata": {
        "id": "sDKeN0d4Qglw"
      },
      "execution_count": null,
      "outputs": []
    },
    {
      "cell_type": "code",
      "source": [
        "#The method is to be used to estimate powerlaw scaling exponent\n",
        "from scipy.optimize import curve_fit\n",
        "def powerlaw_f(x, a, sigma):\n",
        "  return sigma * x**a"
      ],
      "metadata": {
        "id": "zZW40NMba1tu"
      },
      "execution_count": 62,
      "outputs": []
    },
    {
      "cell_type": "code",
      "source": [
        "#Loading pmf data for problem-level avalanches size and duration\n",
        "pmfT_df = pd.read_excel('pmfT.xlsx', names=['Value', 'Probability']) #avalanche duration data\n",
        "pmfSComm_df = pd.read_excel('pmfSComm.xlsx', names=['Value', 'Probability']) #avalanche size data"
      ],
      "metadata": {
        "id": "8YUQphkMd8AX"
      },
      "execution_count": 75,
      "outputs": []
    },
    {
      "cell_type": "code",
      "source": [
        "#Fitting pmf to obtain powerlaw parametrs\n",
        "#duration\n",
        "poptT, pcovT = curve_fit(powerlaw_f, xdata=pmfT_df['Value'], ydata=pmfT_df['Probability'], p0=[2, 0]) #fitting the curve for given pmf\n",
        "x_modelT = np.linspace(min(pmfT_df['Value']), max(pmfT_df['Value']), 1000) #generating data with adjusted parametr for plotting\n",
        "y_modelT = powerlaw_f(x_modelT, poptT[0], poptT[1])\n",
        "#size\n",
        "poptSizeCom, pcovSizeCom = curve_fit(powerlaw_f, xdata=pmfSComm_df['Value'], ydata=pmfSComm_df['Probability'], p0=[1.5, 0.5]) #fitting the curve for given pmf\n",
        "x_modelSizeCom = np.linspace(min(pmfT_df['Value']), max(pmfT_df['Value']), 1000) #generating data with adjusted parametr for plotting\n",
        "y_modelSizeCom = powerlaw_f(x_modelSizeCom, poptSizeCom[0], poptSizeCom[1])"
      ],
      "metadata": {
        "id": "ZD2ULejzb6J_"
      },
      "execution_count": 116,
      "outputs": []
    },
    {
      "cell_type": "code",
      "source": [
        "from matplotlib import axes\n",
        "plt.figure(figsize=(10, 5))\n",
        "#duration\n",
        "plt.subplot(1, 2, 1)\n",
        "pmfT.plot(label='T', logy = True, logx = True, xlabel = 'Avalanch duration', ylabel = 'PMF', color='pink', ylim=(10**(-4), None))\n",
        "plt.loglog(x_modelT, y_modelT, ':', label = f'alpha = {round(poptT[0], 2)}', color='red')\n",
        "plt.legend()\n",
        "#size\n",
        "plt.subplot(1, 2, 2)\n",
        "pmfSComm.plot(label='S', logy = True, logx = True, xlabel = 'Avalanch size', ylabel = 'PMF', color='pink', ylim=(10**(-4), None), xlim=(None, 10**(3)))\n",
        "plt.loglog(x_modelSizeCom, y_modelSizeCom, ':', label = f'alpha = {round(poptSizeCom[0], 2)}', color='red')\n",
        "plt.legend()"
      ],
      "metadata": {
        "colab": {
          "base_uri": "https://localhost:8080/",
          "height": 357
        },
        "id": "hKvbvzgxSzst",
        "outputId": "0b4eea2b-4b92-418f-89a7-7f8e50102bde"
      },
      "execution_count": 103,
      "outputs": [
        {
          "output_type": "execute_result",
          "data": {
            "text/plain": [
              "<matplotlib.legend.Legend at 0x7fe733b2bed0>"
            ]
          },
          "metadata": {},
          "execution_count": 103
        },
        {
          "output_type": "display_data",
          "data": {
            "text/plain": [
              "<Figure size 720x360 with 2 Axes>"
            ],
            "image/png": "[encoded data removed]"
          },
          "metadata": {
            "needs_background": "light"
          }
        }
      ]
    },
    {
      "cell_type": "code",
      "source": [
        "pmfAvDur.to_excel('pmfAvDur.xlsx')\n",
        "pmfAvSize.to_excel('pmfAvSize.xlsx')"
      ],
      "metadata": {
        "id": "KCCuY78hkYUy"
      },
      "execution_count": null,
      "outputs": []
    },
    {
      "cell_type": "markdown",
      "source": [
        "###Repo level"
      ],
      "metadata": {
        "id": "DtzXvte_IHGT"
      }
    },
    {
      "cell_type": "markdown",
      "source": [
        "####Getting PMF"
      ],
      "metadata": {
        "id": "pqDhWzwNw4X2"
      }
    },
    {
      "cell_type": "code",
      "source": [
        "def slope(xs, ys):\n",
        "    return np.diff(np.log(ys)) / np.diff(np.log(xs))"
      ],
      "metadata": {
        "id": "ww2usZqhb0ac"
      },
      "execution_count": 19,
      "outputs": []
    },
    {
      "cell_type": "code",
      "source": [
        "import matplotlib"
      ],
      "metadata": {
        "id": "qj8i_qmN-SBn"
      },
      "execution_count": null,
      "outputs": []
    },
    {
      "cell_type": "code",
      "source": [
        "from matplotlib import axes\n",
        "plt.figure(figsize=(25, 10))\n",
        "\n",
        "plt.subplot(1, 2, 1)\n",
        "options = dict(lw=2, color='pink')\n",
        "pmfAvDur.plot(label='T', logy = True, logx=True, xlabel = 'Avalanch duration', ylabel = 'PMF', **options)\n",
        "plt.legend()\n",
        "\n",
        "plt.subplot(1, 2, 2)\n",
        "options = dict(lw=2, color='pink')\n",
        "pmfAvSize.plot(label='S', logy = True, logx=True, xlabel = 'Avalanch size', ylabel = 'PMF',  **options)\n",
        "plt.legend()"
      ],
      "metadata": {
        "colab": {
          "base_uri": "https://localhost:8080/",
          "height": 417
        },
        "id": "Twk3DjS19nv5",
        "outputId": "62ee6e1f-d78a-4008-9cc3-5eea14048c81"
      },
      "execution_count": null,
      "outputs": [
        {
          "output_type": "execute_result",
          "data": {
            "text/plain": [
              "<matplotlib.legend.Legend at 0x7f0c82c8f4d0>"
            ]
          },
          "metadata": {},
          "execution_count": 147
        },
        {
          "output_type": "display_data",
          "data": {
            "text/plain": [
              "<Figure size 1800x720 with 2 Axes>"
            ],
            "image/png": "[encoded data removed]"
          },
          "metadata": {
            "needs_background": "light"
          }
        }
      ]
    },
    {
      "cell_type": "code",
      "source": [
        "def slope(xs, ys): #calculates scaling exponent for plotting\n",
        "    return np.diff(np.log(ys)) / np.diff(np.log(xs))"
      ],
      "metadata": {
        "id": "P1qm27oOTTnY"
      },
      "execution_count": null,
      "outputs": []
    },
    {
      "cell_type": "code",
      "source": [
        "pmfAvWt = Pmf.from_seq(temporal_df['Waiting times']) #obtaining waiting-times pmf from empirical data\n",
        "\n",
        "plt.figure(figsize=(14, 5))\n",
        "plt.subplot(1, 2, 1)\n",
        "pmfAvWt.plot(xlim=(0, 500) ,logy=True, logx=True, color='pink', xlabel = 'Waiting times', ylabel='PMF')\n",
        "xs = [1, 100]\n",
        "ys = [0.35, 0.0005]\n",
        "options = dict(lw=2,  color='red', linestyle = 'dashed', alpha=0.8, label = 'alpha = '+str(round((slope(xs, ys))[0], 2)))\n",
        "plt.plot(xs, ys, **options)\n",
        "plt.legend()"
      ],
      "metadata": {
        "colab": {
          "base_uri": "https://localhost:8080/",
          "height": 429
        },
        "outputId": "59b5f943-bb0a-495c-effa-957d7cd4f2d9",
        "id": "RcCcuGNJOp7q"
      },
      "execution_count": null,
      "outputs": [
        {
          "output_type": "stream",
          "name": "stderr",
          "text": [
            "/usr/local/lib/python3.7/dist-packages/pandas/plotting/_matplotlib/core.py:518: UserWarning: Attempted to set non-positive left xlim on a log-scaled axis.\n",
            "Invalid limit will be ignored.\n",
            "  ax.set_xlim(self.xlim)\n"
          ]
        },
        {
          "output_type": "execute_result",
          "data": {
            "text/plain": [
              "<matplotlib.legend.Legend at 0x7fe73447ef90>"
            ]
          },
          "metadata": {},
          "execution_count": 134
        },
        {
          "output_type": "display_data",
          "data": {
            "text/plain": [
              "<Figure size 1008x360 with 1 Axes>"
            ],
            "image/png": "[encoded data removed]"
          },
          "metadata": {
            "needs_background": "light"
          }
        }
      ]
    },
    {
      "cell_type": "code",
      "source": [
        "pmfAvDurations.to_excel('pmfAvDurations.xlsx') #saving obtained pmf\n",
        "pmfAvWt.to_excel('pmfAvWt.xlsx') #saving obtained pmf"
      ],
      "metadata": {
        "id": "V3IBg4r7sei4"
      },
      "execution_count": null,
      "outputs": []
    },
    {
      "cell_type": "code",
      "source": [
        "from matplotlib import axes\n",
        "#dashed lines are tuned to have slope of 2 in order to check assumption by Fronczak et al. 2006\n",
        "plt.figure(figsize=(16, 7))\n",
        "\n",
        "plt.subplot(1, 2, 1)\n",
        "options = dict(lw=3, color='pink')\n",
        "pmfAvDurations.plot(label='T', logy = True, logx=True, xlabel = 'Avalanch duration', ylabel = 'PMF', **options)\n",
        "\n",
        "xs = [1, 13]\n",
        "ys = [0.7, 0.0041]\n",
        "options = dict(lw=2,  color='red', linestyle = 'dashed', alpha=0.8, label = 'alpha = '+str(round((slope(xs, ys))[0], 2)))\n",
        "plt.plot(xs, ys, **options)\n",
        "plt.legend()\n",
        "\n",
        "\n",
        "plt.subplot(1, 2, 2)\n",
        "\n",
        "options = dict(lw=3, color='pink')\n",
        "pmfAvSize.plot(label='S', logy = True, logx=True, xlabel = 'Avalanch size', ylabel = 'PMF',  **options)\n",
        "xs = [1, 13]\n",
        "ys = [0.7, 0.0041]\n",
        "options = dict(lw=2,  color='red', alpha=0.8, linestyle = 'dashed', label = 'alpha = '+str(round((slope(xs, ys))[0], 2)))\n",
        "plt.plot(xs, ys, **options)\n",
        "plt.legend()"
      ],
      "metadata": {
        "colab": {
          "base_uri": "https://localhost:8080/",
          "height": 468
        },
        "id": "sSDBa9BFSmu_",
        "outputId": "c502f688-81a9-419a-b5d4-9e8c3723851f"
      },
      "execution_count": null,
      "outputs": [
        {
          "output_type": "execute_result",
          "data": {
            "text/plain": [
              "<matplotlib.legend.Legend at 0x7fe73342bed0>"
            ]
          },
          "metadata": {},
          "execution_count": 183
        },
        {
          "output_type": "display_data",
          "data": {
            "text/plain": [
              "<Figure size 1152x504 with 2 Axes>"
            ],
            "image/png": "[encoded data removed]"
          },
          "metadata": {
            "needs_background": "light"
          }
        }
      ]
    },
    {
      "cell_type": "markdown",
      "source": [
        "### Testing Weibull distribution consistency"
      ],
      "metadata": {
        "id": "VAfhFWo9UFe-"
      }
    },
    {
      "cell_type": "code",
      "source": [
        "pip install predictr"
      ],
      "metadata": {
        "id": "PtrsL9Qgni5a"
      },
      "execution_count": null,
      "outputs": []
    },
    {
      "cell_type": "code",
      "source": [
        "#https://towardsdatascience.com/survival-analysis-in-python-a-quick-guide-to-the-weibull-analysis-5babd4f137f6\n",
        "\n",
        "from predictr import Analysis, PlotAll\n",
        "# Use analysis for the parameter estimation\n",
        "failures = diffs_df[0]\n",
        "a = Analysis(df=failures, show=False)\n",
        "a.mrr()\n",
        "\n",
        "# Use weibull_pdf method in PlotAll to plot the Weibull pdfs\n",
        "# beta contains the Weibull shape parameters, which were estimated using Analysis class. Do the same for the Weibull scale parameter eta.\n",
        "# Cusomize the path directory in order to use this code\n"
      ],
      "metadata": {
        "id": "PoARo15UtMMa"
      },
      "execution_count": null,
      "outputs": []
    },
    {
      "cell_type": "code",
      "source": [
        "plotter = PlotAll() #initializing plotting class\n",
        "plotter.weibull_pdf(beta = [a.beta], eta = [a.eta], linestyle=[':'], x_bounds=[0, 1, 100000], x_label='Time to Failure', y_label='Density Function', save=False, color=['pink'], **kwargs)"
      ],
      "metadata": {
        "id": "3FSHLVuyuvez"
      },
      "execution_count": null,
      "outputs": []
    },
    {
      "cell_type": "code",
      "source": [
        "from predictr import Analysis\n",
        "# Data from testing\n",
        "# Failures and avalanches\n",
        "failures = diffs_df[0]\n",
        "# Weibull Analysis\n",
        "x = Analysis(df=failures, show=True)\n",
        "x.mrr()"
      ],
      "metadata": {
        "colab": {
          "base_uri": "https://localhost:8080/",
          "height": 513
        },
        "id": "4EwqebN1nv_R",
        "outputId": "8f2a4c97-ec87-443e-d9e8-7ff37a524fe5"
      },
      "execution_count": null,
      "outputs": [
        {
          "output_type": "display_data",
          "data": {
            "text/plain": [
              "<Figure size 432x504 with 1 Axes>"
            ],
            "image/png": "[encoded data removed]"
          },
          "metadata": {}
        }
      ]
    },
    {
      "cell_type": "code",
      "source": [
        "#plotting fitted Weibull distribution\n",
        "plotter = PlotAll()\n",
        "plotter.weibull_pdf(beta=[a.beta], eta=[a.eta], linestyle=[':'], x_bounds=[0, 1, 10000], color=['red'])"
      ],
      "metadata": {
        "colab": {
          "base_uri": "https://localhost:8080/",
          "height": 334
        },
        "id": "ScxqQqqHnbHd",
        "outputId": "5d1a7e6f-f109-4f0c-9c43-e8b319e536ed"
      },
      "execution_count": null,
      "outputs": [
        {
          "output_type": "stream",
          "name": "stderr",
          "text": [
            "/usr/local/lib/python3.7/dist-packages/predictr.py:2983: RuntimeWarning: divide by zero encountered in power\n",
            "  return beta / eta * (x / eta) ** (beta - 1) * np.exp(-1 * ((x / eta) ** beta))\n"
          ]
        },
        {
          "output_type": "display_data",
          "data": {
            "text/plain": [
              "<Figure size 432x288 with 1 Axes>"
            ],
            "image/png": "[encoded data removed]"
          },
          "metadata": {}
        }
      ]
    },
    {
      "cell_type": "markdown",
      "source": [
        "![image.png](data:image/png;base64,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)"
      ],
      "metadata": {
        "id": "1uNRTrOMjb0H"
      }
    }
  ],
  "metadata": {
    "colab": {
      "collapsed_sections": [
        "VAfhFWo9UFe-"
      ],
      "name": "Data Processing.ipynb\"",
      "provenance": [],
      "toc_visible": true
    },
    "kernelspec": {
      "display_name": "Python 3",
      "name": "python3"
    },
    "language_info": {
      "name": "python"
    }
  },
  "nbformat": 4,
  "nbformat_minor": 0
}